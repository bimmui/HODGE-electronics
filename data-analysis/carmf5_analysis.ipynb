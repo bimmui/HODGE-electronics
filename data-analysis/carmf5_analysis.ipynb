{
 "cells": [
  {
   "cell_type": "code",
   "execution_count": 1,
   "metadata": {},
   "outputs": [],
   "source": [
    "import numpy as np\n",
    "%matplotlib ipympl\n",
    "import matplotlib.pyplot as plt\n",
    "from matplotlib.lines import Line2D\n",
    "from matplotlib.widgets import CheckButtons\n",
    "import pandas as pd\n",
    "import scipy.stats as s_stats\n",
    "import seaborn as sns\n",
    "import mplcursors"
   ]
  },
  {
   "cell_type": "code",
   "execution_count": 2,
   "metadata": {},
   "outputs": [],
   "source": [
    "sns.set_theme(context='notebook', style='darkgrid', palette='colorblind', \n",
    "              font='sans-serif', font_scale=1, color_codes=True, rc=None) \n",
    "palette = sns.color_palette(\"colorblind\")"
   ]
  },
  {
   "cell_type": "code",
   "execution_count": 3,
   "metadata": {},
   "outputs": [
    {
     "name": "stderr",
     "output_type": "stream",
     "text": [
      "C:\\Users\\danie\\AppData\\Local\\Temp\\ipykernel_38680\\1732701732.py:1: DtypeWarning: Columns (9,11) have mixed types. Specify dtype option on import or set low_memory=False.\n",
      "  high_launch_data = pd.read_csv('data/carmf5_HIGHDATA.CSV')\n",
      "C:\\Users\\danie\\AppData\\Local\\Temp\\ipykernel_38680\\1732701732.py:2: DtypeWarning: Columns (9,11) have mixed types. Specify dtype option on import or set low_memory=False.\n",
      "  low_launch_data = pd.read_csv('data/carmf5_LOWDATA.CSV')\n"
     ]
    }
   ],
   "source": [
    "high_launch_data = pd.read_csv('data/carmf5_HIGHDATA.CSV')\n",
    "low_launch_data = pd.read_csv('data/carmf5_LOWDATA.CSV')"
   ]
  },
  {
   "cell_type": "code",
   "execution_count": null,
   "metadata": {},
   "outputs": [],
   "source": [
    "fig, ax = plt.subplots()\n",
    "altvtime = plt.plot(raw_launch_data['time (ms)'] / 1000, raw_launch_data['altitude (m)'])\n",
    "plt.xlim([1100, 1225])\n",
    "# by default the tooltip is displayed \"onclick\"\n",
    "# we can change it by setting hover to True\n",
    "cursor = mplcursors.cursor(altvtime, hover=True)\n",
    "# by default the annotation displays the xy positions\n",
    "# this is to change it to the countries name\n",
    "@cursor.connect(\"add\")\n",
    "def on_add(sel):\n",
    "    index = sel.target.index\n",
    "    x = sel.target[0]\n",
    "    y = sel.target[1]\n",
    "    sel.annotation.set(text=f'Altitude: {y:.2f} m')\n",
    "    \n",
    "plt.xlabel('Time (s)')\n",
    "plt.ylabel('Altitude (m)')\n",
    "plt.title('Altitude vs. Time')\n",
    "plt.show()"
   ]
  }
 ],
 "metadata": {
  "kernelspec": {
   "display_name": "hodge",
   "language": "python",
   "name": "python3"
  },
  "language_info": {
   "codemirror_mode": {
    "name": "ipython",
    "version": 3
   },
   "file_extension": ".py",
   "mimetype": "text/x-python",
   "name": "python",
   "nbconvert_exporter": "python",
   "pygments_lexer": "ipython3",
   "version": "3.11.10"
  }
 },
 "nbformat": 4,
 "nbformat_minor": 2
}
